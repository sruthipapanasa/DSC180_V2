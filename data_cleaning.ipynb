{
 "cells": [
  {
   "cell_type": "code",
   "execution_count": 1,
   "metadata": {},
   "outputs": [],
   "source": [
    "import regex as re\n",
    "import pandas as pd "
   ]
  },
  {
   "cell_type": "code",
   "execution_count": 2,
   "metadata": {},
   "outputs": [],
   "source": [
    "def clean_tweets(tweet, link=True, mention=True, hashtag=True):\n",
    "    \n",
    "    re_pattern = []\n",
    "    if link:\n",
    "        re_pattern.append('http\\S+')\n",
    "    if mention:\n",
    "        re_pattern.append('@')\n",
    "    if hashtag:\n",
    "        re_pattern.append('#')\n",
    "    re_pattern = \"|\".join(re_pattern)\n",
    "\n",
    "    tweet = str(tweet)\n",
    "    tweet = re.sub(re_pattern, ' ', tweet)\n",
    "    return tweet.strip()"
   ]
  },
  {
   "cell_type": "code",
   "execution_count": 3,
   "metadata": {},
   "outputs": [],
   "source": [
    "def filter_tweets(df, min_tweet_count=20, min_word_count=0):\n",
    "    \n",
    "    #select variables\n",
    "    out = df[[\"tweet\",\"user_id\"]]\n",
    "    out = out.dropna(subset=['user_id'])\n",
    "\n",
    "    #remove URLS, mentions, hashtags\n",
    "    out['tweet'] = out['tweet'].astype(str)\n",
    "    out[\"cleaned_tweets\"] = out[\"tweet\"].apply(clean_tweets)\n",
    "\n",
    "    #drop duplicate tweets\n",
    "    out = out.drop_duplicates(subset=['user_id', 'cleaned_tweets'])\n",
    "\n",
    "    #minimum word count\n",
    "    out = out[out['cleaned_tweets'].str.split().str.len() >= min_word_count]\n",
    "\n",
    "    #minimum tweet count\n",
    "    user_count = out['user_id'].value_counts()\n",
    "    valid_users = user_count[user_count >= min_tweet_count].index\n",
    "    out = out[out['user_id'].isin(valid_users)]\n",
    "\n",
    "    return out[['user_id', 'cleaned_tweets']]"
   ]
  },
  {
   "cell_type": "code",
   "execution_count": 4,
   "metadata": {},
   "outputs": [
    {
     "name": "stdout",
     "output_type": "stream",
     "text": [
      "(970919, 21) (776886, 21)\n"
     ]
    }
   ],
   "source": [
    "trump = pd.read_csv(\"data/hashtag_donaldtrump.csv\", lineterminator='\\n')\n",
    "biden = pd.read_csv(\"data/hashtag_joebiden.csv\", lineterminator='\\n')\n",
    "\n",
    "print(trump.shape, biden.shape)"
   ]
  },
  {
   "cell_type": "code",
   "execution_count": 5,
   "metadata": {},
   "outputs": [],
   "source": [
    "trump_clean = filter_tweets(trump)\n",
    "biden_clean = filter_tweets(biden)"
   ]
  },
  {
   "cell_type": "code",
   "execution_count": 7,
   "metadata": {},
   "outputs": [],
   "source": [
    "trump_clean.to_csv('data/cleaned_tweets_biden.csv')\n",
    "biden_clean.to_csv('data/cleaned_tweets_trump.csv')"
   ]
  },
  {
   "cell_type": "code",
   "execution_count": null,
   "metadata": {},
   "outputs": [],
   "source": []
  }
 ],
 "metadata": {
  "kernelspec": {
   "display_name": "Python 3 (ipykernel)",
   "language": "python",
   "name": "python3"
  },
  "language_info": {
   "codemirror_mode": {
    "name": "ipython",
    "version": 3
   },
   "file_extension": ".py",
   "mimetype": "text/x-python",
   "name": "python",
   "nbconvert_exporter": "python",
   "pygments_lexer": "ipython3",
   "version": "3.9.13"
  }
 },
 "nbformat": 4,
 "nbformat_minor": 2
}
