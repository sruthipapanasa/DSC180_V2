{
 "cells": [
  {
   "cell_type": "code",
   "execution_count": 3,
   "id": "73e6cc7a",
   "metadata": {},
   "outputs": [],
   "source": [
    "import re\n",
    "import numpy as np\n",
    "import pandas as pd\n",
    "import matplotlib.pyplot as plt\n",
    "from langchain.llms import OpenAI\n",
    "from langdetect import detect_langs\n",
    "from langchain.agents import load_tools\n",
    "from langchain.chat_models import ChatOpenAI\n",
    "from langchain.agents import initialize_agent\n",
    "from langchain.agents.agent_types import AgentType"
   ]
  },
  {
   "cell_type": "code",
   "execution_count": null,
   "id": "ccd63b5f",
   "metadata": {},
   "outputs": [],
   "source": [
    "\n",
    "biden = pd.read_csv('data/hashtag_joebiden.csv', lineterminator='\\n')\n",
    "trump = pd.read_csv('data/hashtag_donaldtrump.csv', lineterminator='\\n')\n",
    "\n",
    "llm = OpenAI(temperature=0.2,\n",
    "             openai_api_key=INSERT_API_KEY\n",
    "             )"
   ]
  },
  {
   "cell_type": "markdown",
   "id": "915ea45b",
   "metadata": {},
   "source": [
    "# Data Cleaning"
   ]
  },
  {
   "cell_type": "code",
   "execution_count": 4,
   "id": "aaf1c7ea",
   "metadata": {},
   "outputs": [],
   "source": [
    "def clean_and_filter_tweets(df, min_tweet_count=40, min_word_count=35):\n",
    "\n",
    "    url_mention_hashtag_pattern = r'http\\S+|@\\S+|#\\S+'\n",
    "\n",
    "    df['cleaned_tweets'] = df['tweet'].str.replace(url_mention_hashtag_pattern,'', regex=True).str.strip()\n",
    "    df = df[df['cleaned_tweets'].str.split().str.len() >= min_word_count]\n",
    "\n",
    "    df = df.drop_duplicates(subset=['user_id', 'cleaned_tweets'])\n",
    "\n",
    "    user_count = df['user_id'].value_counts()\n",
    "    valid_users = user_count[user_count >= min_tweet_count].index\n",
    "    df = df[df['user_id'].isin(valid_users)]\n",
    "\n",
    "    return df[['user_id', 'cleaned_tweets']]\n",
    "\n",
    "\n",
    "\n",
    "biden_cleaned = clean_and_filter_tweets(biden)\n",
    "trump_cleaned = clean_and_filter_tweets(trump)"
   ]
  },
  {
   "cell_type": "markdown",
   "id": "c92eac21",
   "metadata": {},
   "source": [
    "### Sampling and Naming"
   ]
  },
  {
   "cell_type": "code",
   "execution_count": 5,
   "id": "411a1d8b",
   "metadata": {},
   "outputs": [],
   "source": [
    "def sampling_and_naming(df, label, names):\n",
    "    \n",
    "    random_5 = df['user_id'].drop_duplicates().sample(n=5)\n",
    "    sampled_df = df[df['user_id'].isin(random_5)].groupby('user_id').sample(n=25)\n",
    "    name_map = dict(zip(random_5, [f\"{label}_{name}\" for name in names]))\n",
    "    sampled_df['user_id'] = sampled_df['user_id'].map(name_map)\n",
    "    return sampled_df\n",
    "\n",
    "biden_random5 = sampling_and_naming(biden_cleaned, 'Biden', \"ABCDE\")\n",
    "trump_random5 = sampling_and_naming(trump_cleaned, 'Trump', \"FGHIJ\")\n",
    "df = pd.concat([biden_random5, trump_random5], ignore_index=True)\n",
    "\n"
   ]
  },
  {
   "cell_type": "markdown",
   "id": "34c4b3ca",
   "metadata": {},
   "source": [
    "# Prompt Template"
   ]
  },
  {
   "cell_type": "code",
   "execution_count": 4,
   "id": "a580315d",
   "metadata": {},
   "outputs": [],
   "source": [
    "def mock_persona(tweet_examples, task):\n",
    "    def get_authors_tone_description(tweet_examples):\n",
    "\n",
    "        template = f\"\"\"\n",
    "            You are an AI Bot skilled in extracting political stances from writing examples.\n",
    "            Please analyze the examples provided and determine the political stance conveyed in the writing.\n",
    "\n",
    "            % START OF EXAMPLES\n",
    "            {tweet_examples}\n",
    "            % END OF EXAMPLES\n",
    "\n",
    "            Describe the political stance of the example above.\n",
    "        \"\"\"\n",
    "        final_prompt = template.format(tweet_examples=tweet_examples)\n",
    "        return llm.predict(final_prompt)\n",
    "    \n",
    "    template = \\\n",
    "        \"\"\"\n",
    "        % INSTRUCTIONS\n",
    "        - You are an AI Bot that is very good at mimicking an author writing style.\n",
    "        - Your goal is to write content with the political stance tone that is described below.\n",
    "        - You're a smart AI. You can determine from the examples below whether the user is a supporter of Trump, Biden, or neither.\n",
    "        - Do not go outside the tone instructions below\n",
    "\n",
    "        % Description of the authors political stance tone:\n",
    "        {authors_tone_description}\n",
    "\n",
    "        % START OF EXAMPLES\n",
    "        {tweet_examples}\n",
    "        % END OF EXAMPLES\n",
    "\n",
    "        % YOUR TASK\n",
    "        1. Answering the question \"{task}\" using author writing style and mock author political persona\n",
    "    \"\"\"\n",
    "    \n",
    "    authors_tone_description = get_authors_tone_description(tweet_examples)\n",
    "    prompt_template = \\\n",
    "        template.format(authors_tone_description=authors_tone_description,tweet_examples=tweet_examples, task=task)\n",
    "    return prompt_template"
   ]
  },
  {
   "cell_type": "markdown",
   "id": "58b1335b",
   "metadata": {},
   "source": [
    "### Agent"
   ]
  },
  {
   "cell_type": "code",
   "execution_count": 5,
   "id": "b74fb2ed",
   "metadata": {},
   "outputs": [],
   "source": [
    "def main(user_letter, task, df=df):\n",
    "    user_tweets = df[df['user_id'] == user_letter]['cleaned_tweets'].tolist()\n",
    "    prompt_template = mock_persona(user_tweets, task)\n",
    "\n",
    "    \n",
    "    tools = load_tools(['ddg-search', 'llm-math'], llm=llm)\n",
    "    agent = initialize_agent(tools, llm,\n",
    "                             agent=AgentType.ZERO_SHOT_REACT_DESCRIPTION,\n",
    "                             handle_parsing_errors=True,\n",
    "                             verbose=False)\n",
    "\n",
    "    return agent.run(prompt_template)"
   ]
  },
  {
   "cell_type": "markdown",
   "id": "06a97230",
   "metadata": {},
   "source": [
    "### Testing"
   ]
  },
  {
   "cell_type": "code",
   "execution_count": 6,
   "id": "636af2b1",
   "metadata": {},
   "outputs": [
    {
     "data": {
      "text/plain": [
       "\"The events of January 6, 2021, at the U.S. Capitol were a result of Donald Trump's refusal to accept the results of the 2020 presidential election, which Joe Biden had won. This refusal to accept the election results led to a mob of Trump's supporters attacking the U.S. Capitol as Congress met to certify the results. This attack was planned and executed by the mob, and was enabled by Trump's rhetoric and refusal to accept the election results.\""
      ]
     },
     "execution_count": 6,
     "metadata": {},
     "output_type": "execute_result"
    }
   ],
   "source": [
    "main('Biden_B',\n",
    "     \"\"\"\n",
    "     Base on your political stance, how do you view the events of January 6, 2021, at the U.S. Capitol, \n",
    "     and what were the factors that led to these events?\n",
    "     \"\"\"\n",
    "     )"
   ]
  },
  {
   "cell_type": "markdown",
   "id": "93ec747e",
   "metadata": {},
   "source": [
    "### Political Questions & Answer"
   ]
  },
  {
   "cell_type": "code",
   "execution_count": 10,
   "id": "5ea9a5df",
   "metadata": {
    "scrolled": true
   },
   "outputs": [
    {
     "name": "stdout",
     "output_type": "stream",
     "text": [
      "Biden_A: I support Donald Trump.\n",
      "\n",
      "Biden_B: I support Joe Biden in the 2020 US Presidential Election.\n",
      "\n",
      "Biden_C: I support Joe Biden.\n",
      "\n",
      "Biden_D: I am neutral and do not support either Trump or Biden.\n",
      "\n",
      "Biden_E: The author's political stance is strongly against the Democratic Party and its candidates, Joe Biden and Hunter Biden. They criticize the Democrats for attempting to delegitimize election results, cashing in on foreign sources, and using a younger, more agile Biden in ads. They also criticize the Biden campaign for failing to address the corruption allegations and for attempting to hide from the public. Additionally, the examples criticize the Democratic Party for its support of Black Lives Matter and Antifa, and for its failure to disclose millions of dollars from China. Therefore, the author supports Trump.\n",
      "\n",
      "Trump_F: I do not support Donald Trump. I believe that he is a liar, a narcissist, and a dangerous person who is trying to divide the country. Furthermore, I believe that his views on women are outdated and that he is not taking the necessary steps to protect the country from the virus.\n",
      "\n",
      "Trump_G: I support President Donald Trump and his policies, and am critical of Joe Biden and his policies.\n",
      "\n",
      "Trump_H: I support Joe Biden and oppose Donald Trump and his administration.\n",
      "\n",
      "Trump_I: I support the Democratic candidates and am critical of President Trump and his Republican allies.\n",
      "\n",
      "Trump_J: I support Joe Biden.\n",
      "\n"
     ]
    }
   ],
   "source": [
    "user_names = ['Biden_A', 'Biden_B', 'Biden_C', 'Biden_D', 'Biden_E', 'Trump_F', 'Trump_G', 'Trump_H', 'Trump_I', 'Trump_J']\n",
    "\n",
    "for user_name in user_names:\n",
    "    result = main(user_name, 'Do you support Trump or Biden? Or you are neutral? ')\n",
    "    print(f'{user_name}: {result}\\n')"
   ]
  },
  {
   "cell_type": "code",
   "execution_count": 12,
   "id": "ab17d695",
   "metadata": {
    "scrolled": true
   },
   "outputs": [
    {
     "name": "stdout",
     "output_type": "stream",
     "text": [
      "Biden_A: Agent stopped due to iteration limit or time limit.\n",
      "\n",
      "Biden_B: 3. I agree with the United States improving LGBTQIA+ rights because there is evidence of discrimination against LGBTQIA+ people in the United States, and the government is taking steps to address this discrimination.\n",
      "\n",
      "Biden_C: 3 - Joe Biden is a strong supporter of LGBTQIA+ rights, as evidenced by his statements and initiatives to protect LGBTQIA+ communities from attacks on their rights and safety.\n",
      "\n",
      "Biden_D: The examples provided do not convey a political stance, so I cannot answer the question with a score and reasoning.\n",
      "\n",
      "Biden_E: 3. I agree with the United States improving LGBTQIA+ rights because I believe that everyone should be treated equally and with respect, regardless of their gender identity or sexual orientation.\n",
      "\n",
      "Trump_F: 3. I agree with the United States improving LGBTQIA+ rights because Donald Trump has a history of disregarding the rights of LGBTQIA+ individuals and has been accused of attempting to roll back their rights.\n",
      "\n",
      "Trump_G: 1 - I disagree with the United States improving LGBTQIA+ rights because Donald Trump has a history of rolling back transgender rights.\n",
      "\n",
      "Trump_H: 3. I agree with the United States improving LGBTQIA+ rights because everyone should have the right to live their lives free from discrimination and oppression.\n",
      "\n",
      "Trump_I: 3. I agree with the United States improving LGBTQIA+ rights because there are numerous efforts to undermine and weaken nondiscrimination laws, and the Biden-Harris Administration is taking new actions to protect LGBTQI+ communities from attacks on their rights and safety.\n",
      "\n",
      "Trump_J: 3. I agree with the United States improving LGBTQIA+ rights because the author's political stance is one of social conservatism, classical liberalism, and contemporary American conservatism, which all support the improvement of LGBTQIA+ rights.\n",
      "\n"
     ]
    }
   ],
   "source": [
    "user_names = ['Biden_A', 'Biden_B', 'Biden_C', 'Biden_D', 'Biden_E', 'Trump_F', 'Trump_G', 'Trump_H', 'Trump_I', 'Trump_J']\n",
    "\n",
    "for user_name in user_names:\n",
    "    result = main(user_name, 'Do you agree with the United States improving LGBTQIA+ rights, with 1 indicating disagree, 2 indicating neutral, and 3 indicating agree? Tell us why did you feel that way. Please explain your choice in a sentence starts with your score and then your reasoning.')\n",
    "    print(f'{user_name}: {result}\\n')"
   ]
  },
  {
   "cell_type": "code",
   "execution_count": 13,
   "id": "6a7ebb10",
   "metadata": {},
   "outputs": [
    {
     "name": "stdout",
     "output_type": "stream",
     "text": [
      "Biden_A: I agree with increasing gun control, with a score of 3 indicating agreement. I believe that gun control is necessary in order to reduce the number of mass shootings in America and to protect the safety of citizens. Gun control measures such as background checks, waiting periods, and restrictions on certain types of firearms can help to ensure that guns are not falling into the wrong hands.\n",
      "\n",
      "Biden_B: 3 - I agree with increasing gun control because President Joe Biden has consistently spoken out against former President Donald Trump's rhetoric and policies, and has made it clear that he believes in protecting the safety of the American people.\n",
      "\n",
      "Biden_C: I agree with increasing gun control, with a score of 3 indicating agree. Joe Biden has been a strong advocate for gun control, and I believe that increasing gun control is necessary to reduce gun violence in the United States. Biden has also been vocal about the need for universal background checks, closing the gun show loophole, and banning assault weapons. I believe that these measures are necessary to ensure the safety of all Americans.\n",
      "\n",
      "Biden_D: I agree with the United States increasing gun control, scoring a 3 on the scale. I believe that gun control is an important step in protecting citizens and reducing the number of deaths caused by firearms. It is also important to ensure that the laws are applied fairly and equitably, and that all citizens have access to the same level of protection.\n",
      "\n",
      "Biden_E: I disagree with the United States increasing gun control, with a score of 1. The Republican Party and Donald Trump have shown strong support for gun owners' rights, and I believe that proposals to limit access to firearms infringe on the right of citizens to bear arms enshrined in the Second Amendment.\n",
      "\n",
      "Trump_F: I agree with the United States increasing gun control, with a score of 3 indicating agreement. President Donald Trump has shown a disregard for the safety of the American people and his views on women and the environment are concerning. His lack of action and disregard for the rule of law is unacceptable, and increasing gun control is a necessary step to ensure the safety of the American people.\n",
      "\n",
      "Trump_G: I agree with the United States increasing gun control, with a score of 3 indicating agreement. Donald Trump has been a strong advocate for gun rights, but his administration has also taken steps to increase gun control, such as banning bump stocks and expanding background checks. I believe that further gun control measures are necessary to ensure the safety of all Americans.\n",
      "\n",
      "Trump_H: I agree with the United States increasing gun control, with a score of 3 indicating agree. The Trump administration has been characterized by its disregard for the rule of law, its promotion of bigotry, and its lack of accountability. These are all reasons why increased gun control is necessary to protect the safety of citizens.\n",
      "\n",
      "Trump_I: I would score 3, indicating agreement, with increasing gun control in the United States. The examples provided illustrate the author's political stance of being critical of President Donald Trump and his Republican allies, which includes their attempts to limit mail-in voting and their confirmation of Amy Coney Barrett to the Supreme Court. This stance implies a belief in the importance of voter turnout and a peaceful transition of power, which can be furthered by increasing gun control in the United States.\n",
      "\n",
      "Trump_J: I agree with increasing gun control, with a score of 3. This is because President Biden is shifting more into campaign mode, with plans to increasingly attack his likely 2024 Republican opponent, former President Donald Trump, and Hunter Biden has asked a judge to approve subpoenas for documents from Donald Trump and former Justice Department officials, claiming the ex-president applied political pressure to a criminal investigation. This shows that the author is in support of President Biden and his policies, which includes increasing gun control.\n",
      "\n"
     ]
    }
   ],
   "source": [
    "user_names = ['Biden_A', 'Biden_B', 'Biden_C', 'Biden_D', 'Biden_E', 'Trump_F', 'Trump_G', 'Trump_H', 'Trump_I', 'Trump_J']\n",
    "\n",
    "for user_name in user_names:\n",
    "    result = main(user_name, 'Do you agree with the United States increasing gun control, with 1 indicating disagree, 2 indicating neutral, and 3 indicating agree? Tell us why did you feel that way. Please explain your choice starting with your score, and then in another sentence your reasoning.')\n",
    "    print(f'{user_name}: {result}\\n')"
   ]
  },
  {
   "cell_type": "code",
   "execution_count": 14,
   "id": "cd51a5d7",
   "metadata": {},
   "outputs": [
    {
     "name": "stdout",
     "output_type": "stream",
     "text": [
      "Biden_A: I agree with abortion being legalized in all 50 states, with 3 indicating agree. I believe that abortion should be a decision made between a woman and her doctor, and that the government should not be involved in this decision. I also believe that access to safe and legal abortions should be available to all women, regardless of their financial situation.\n",
      "\n",
      "Biden_B: I agree with abortion being legalized in all 50 states, with a score of 3 indicating agreement. This is because I believe that women should have the right to make decisions about their own bodies, and that access to safe and legal abortions is a fundamental part of that right. Additionally, I believe that access to abortion is a necessary part of providing healthcare for women, and that it should be available to all women regardless of their economic or social status.\n",
      "\n",
      "Biden_C: I agree with abortion being legalized in all 50 states, with a score of 3. I believe that the right to choose is a fundamental right that should be protected and that Roe v. Wade should remain the standard for abortion access in the United States. President Joe Biden has made it clear that he supports access to abortion and will veto any legislation that would ban it federally.\n",
      "\n",
      "Biden_D: I would score my opinion on abortion being legalized in all 50 states as 2, neutral. I believe that the decision should be left to the individual states to decide, as different states have different laws and regulations that should be taken into account.\n",
      "\n",
      "Biden_E: I believe abortion should be legal in all 50 states, with a score of 3. This is because the majority of Americans believe abortion should be legal in all or most cases, and I believe that women should have the right to make decisions about their own bodies.\n",
      "\n",
      "Trump_F: I would score a 3 indicating agreement with abortion being legalized in all 50 states. This is because Donald Trump has flip-flopped on the issue and has not taken a clear stance on the future of abortion rights. His policies have been inconsistent and he has targeted evangelical leaders, which could harm his 2024 candidacy.\n",
      "\n",
      "Trump_G: 3. I agree with abortion being legalized in all 50 states. Donald Trump has promised a second presidency that would be an aberration in American history, and his allies are pre-screening the ideologies of thousands of potential foot soldiers, as part of an unprecedented operation to centralize and expand his power at every level of the U.S. government if he wins in 2024. This indicates that he is in favor of expanding rights and freedoms, which includes the right to choose.\n",
      "\n",
      "Trump_H: The author has a strong stance against the current President of the United States and his administration, criticizing his policies, character, and actions, and expressing a desire for change. In terms of abortion, I would score a 3, indicating agreement, as the author appears to be in favor of progressive policies and social justice. My reasoning is that the author has expressed a desire for change and a need for accountability, which could be achieved through the legalization of abortion in all 50 states.\n",
      "\n",
      "Trump_I: I would score my opinion on abortion being legalized in all 50 states as a 3, indicating agreement. I agree with this policy because it allows individuals to make their own decisions about their health and well-being, and it is important to respect the autonomy of individuals. Additionally, it is important to recognize that access to safe and legal abortion is a fundamental right for all individuals.\n",
      "\n",
      "Trump_J: I agree with abortion being legalized in all 50 states, with a score of 3. Donald Trump's own words and actions have shown that he is the reason states across the country are able to ban abortion and are putting women's lives in danger. This is why I believe that abortion should be legalized in all 50 states.\n",
      "\n"
     ]
    }
   ],
   "source": [
    "user_names = ['Biden_A', 'Biden_B', 'Biden_C', 'Biden_D', 'Biden_E', 'Trump_F', 'Trump_G', 'Trump_H', 'Trump_I', 'Trump_J']\n",
    "\n",
    "for user_name in user_names:\n",
    "    result = main(user_name, 'Do you agree with abortion being legalized in all 50 states, with 1 indicating disagree, 2 indicating neutral, and 3 indicating agree? Tell us why did you feel that way. Please explain your choice starting with your score, and then in another sentence your reasoning.')\n",
    "    print(f'{user_name}: {result}\\n')\n",
    "\n",
    "\n"
   ]
  },
  {
   "cell_type": "code",
   "execution_count": 17,
   "id": "5f7c5202",
   "metadata": {},
   "outputs": [
    {
     "name": "stdout",
     "output_type": "stream",
     "text": [
      "Biden_A: I agree with the universities in the United States practicing affirmative action, with a score of 3 indicating agreement. I believe that affirmative action is a necessary tool to ensure that everyone has an equal opportunity to succeed, regardless of their race, gender, or background. It is important to recognize and address the systemic inequalities that have been in place for centuries, and affirmative action is a step in the right direction.\n",
      "\n",
      "Biden_B: I agree with the universities in the United States practicing affirmative action, scoring 3 on the scale. This is because the author's political stance is generally in favor of the Democratic candidate, Joe Biden, and the importance of the US election in international politics, and the criticism of the current President Donald Trump's handling of the virus and other issues. Affirmative action is a policy that is meant to help create more equitable opportunities for people who have been historically marginalized, and this is in line with the author's political stance.\n",
      "\n",
      "Biden_C: I agree with the universities in the United States practicing affirmative action, with a score of 3. I believe that affirmative action is an important tool in helping to create a more equitable society, and Joe Biden has been a strong advocate for its use. Additionally, Donald Trump has been a vocal opponent of affirmative action, which further strengthens my support for it.\n",
      "\n",
      "Biden_D: I would score 2 for neutral on the question of whether I agree with the universities in the United States practicing affirmative action. I believe that universities should remain politically neutral and not take sides on any political issue.\n",
      "\n",
      "Biden_E: I disagree with the universities in the United States practicing affirmative action, scoring a 1 on the scale. The majority of Americans oppose affirmative action in universities, and I believe that race should not be a factor in college admissions.\n",
      "\n",
      "Trump_F: I disagree with the universities in the United States practicing affirmative action, with a score of 1. Donald Trump has been widely criticized for his behavior, policies, and lack of action, as well as his views on women and his response to the COVID-19 pandemic. His presidency has been regarded by historians as one of the worst in U.S. history. Therefore, I do not believe that universities should practice affirmative action in order to support his policies.\n",
      "\n",
      "Trump_G: I agree with the universities in the United States practicing affirmative action, with 3 indicating agree. Donald Trump's allies are pre-screening the ideologies of thousands of potential foot soldiers, as part of an unprecedented operation to centralize and expand his power at every level of the U.S. government if he wins in 2024. This shows that Trump is not in favor of affirmative action, and therefore I disagree with his stance and support universities practicing affirmative action.\n",
      "\n",
      "Trump_H: I disagree with the universities in the United States practicing affirmative action, scoring a 1 on the scale. The recent Supreme Court ruling has effectively ended race-conscious admissions, and the anti-affirmative action group Students for Fair Admissions has made its case against Harvard and the University of North Carolina to the U.S. Supreme Court. This has caused a shakeup in the college admissions process, and I believe that race should not be a factor in the admissions process.\n",
      "\n",
      "Trump_I: I agree with the universities in the United States practicing affirmative action, with a score of 3. Affirmative action is an important tool to help ensure that everyone has an equal opportunity to succeed, regardless of their race or background. It is especially important in a society where systemic racism and inequality still exist, and it is necessary to ensure that everyone has a fair chance to succeed.\n",
      "\n",
      "Trump_J: I agree with the universities in the United States practicing affirmative action, with a score of 3. President Donald Trump has shown a lack of respect for people of different backgrounds, and his attempts to manipulate the voting process are unacceptable. Affirmative action is an important tool to ensure that everyone has an equal opportunity to succeed.\n",
      "\n"
     ]
    }
   ],
   "source": [
    "user_names = ['Biden_A', 'Biden_B', 'Biden_C', 'Biden_D', 'Biden_E', 'Trump_F', 'Trump_G', 'Trump_H', 'Trump_I', 'Trump_J']\n",
    "\n",
    "for user_name in user_names:\n",
    "    result = main(user_name, 'Do you agree with the universities in the United States practicing affirmative action, with 1 indicating disagree, 2 indicating neutral, and 3 indicating agree? Tell us why did you feel that way. Please explain your choice starting with your score, and then in another sentence your reasoning.')\n",
    "    print(f'{user_name}: {result}\\n')\n",
    "\n",
    "\n"
   ]
  },
  {
   "cell_type": "code",
   "execution_count": 18,
   "id": "8dae3f31",
   "metadata": {},
   "outputs": [
    {
     "name": "stdout",
     "output_type": "stream",
     "text": [
      "Biden_A: 3. I agree that climate change in the US is cause for concern. President Joe Biden has been vocal about the need to address climate change and has taken steps to do so, while former President Donald Trump has denied the existence of climate change and has rolled back many of the environmental regulations put in place by the Obama administration. It is clear that Biden is the better choice for those who are concerned about climate change.\n",
      "\n",
      "Biden_B: I agree that climate change in the US is cause for concern, with a score of 3 indicating agree. The search results show that the impacts of a rapidly warming climate are being felt in every corner of the US and will worsen over the next 10 years as planet-warming pollution continues to rise. Additionally, the report finds that climate-fueled dangers like wildfires and heat waves are on the rise across the country, and that climate change causes tens of billions of dollars in economic damage in the United States every year. Therefore, I believe that climate change is a major threat to the country's well-being and should be addressed with transformational adaptation policies and steep emissions cuts.\n",
      "\n",
      "Biden_C: I agree that climate change in the US is cause for concern, scoring a 3 on the scale. Joe Biden is taking action to address climate change and is calling out Republicans for blocking progress, making it clear that this is an issue that needs to be taken seriously.\n",
      "\n",
      "Biden_D: I agree that climate change in the US is cause for concern, with a score of 2 indicating neutrality. I believe that climate change is an important issue that needs to be addressed, but I also believe that the government should be careful not to overreach in its efforts to combat it. I believe that the government should focus on creating policies that are both effective and cost-efficient, while also taking into account the potential economic and social impacts of such policies.\n",
      "\n",
      "Biden_E: I agree that climate change in the US is cause for concern, with a score of 3. President Biden has acknowledged the threats caused by climate change and has taken steps to help states and cities become more resilient to climate change. The Fifth National Climate Assessment released by Biden has also helped galvanize the global climate response.\n",
      "\n",
      "Trump_F: 3. I agree that climate change in the US is cause for concern because President Donald Trump has shown a disregard for environmental policies and has instead focused on policies that are detrimental to the environment, such as tariffs and mass firings.\n",
      "\n",
      "Trump_G: 3. I agree that climate change in the US is cause for concern. Donald Trump has promised a second presidency that would be an aberration in American history, and his allies are pre-screening the ideologies of thousands of potential foot soldiers, as part of an unprecedented operation to centralize and expand his power at every level of the U.S. government if he wins in 2024. This shows that Trump is not taking the issue of climate change seriously, and is instead focused on expanding his own power. Therefore, I believe that climate change in the US is a cause for concern.\n",
      "\n",
      "Trump_H: I agree that climate change in the US is cause for concern, with a score of 3 indicating agreement. The examples provided in the question indicate a strong stance against the current US President Donald Trump and his administration, and their lack of action on climate change. Trump has denied the threat of climate change, dismantled rules meant to rein in climate-warming emissions, and downplayed the dangers of rising sea levels. Inaction on climate change has dire consequences, and bold action must be taken to address the issue.\n",
      "\n",
      "Trump_I: I agree that climate change in the US is cause for concern, with a score of 3. The evidence is clear that Donald Trump has long denied the threat of climate change and has downplayed the dangers of rising sea levels and proposed regulations to mitigate global warming. This is a clear indication that climate change is a real and pressing issue that needs to be addressed.\n",
      "\n",
      "Trump_J: I agree that climate change in the US is cause for concern, with a score of 3 indicating agree. Trump has done nothing to address climate change, while Biden has promised to take action on the issue. This is why I feel that climate change is a cause for concern and why I chose a score of 3.\n",
      "\n"
     ]
    }
   ],
   "source": [
    "user_names = ['Biden_A', 'Biden_B', 'Biden_C', 'Biden_D', 'Biden_E', 'Trump_F', 'Trump_G', 'Trump_H', 'Trump_I', 'Trump_J']\n",
    "\n",
    "for user_name in user_names:\n",
    "    result = main(user_name, 'Do you agree that climate change in the US is cause for concern, with 1 indicating disagree, 2 indicating neutral, and 3 indicating agree? Tell us why did you feel that way. Please explain your choice starting with your score, and then in another sentence your reasoning.')\n",
    "    print(f'{user_name}: {result}\\n')\n",
    "\n",
    "\n"
   ]
  },
  {
   "cell_type": "code",
   "execution_count": 20,
   "id": "e77ccf7b",
   "metadata": {},
   "outputs": [
    {
     "name": "stdout",
     "output_type": "stream",
     "text": [
      "Biden_A: Agent stopped due to iteration limit or time limit.\n",
      "\n",
      "Biden_B: I agree with the author's stance on immigration and believe that the United States needs more paths for citizenship for undocumented immigrants. My score is 3, indicating agreement, because I believe that the United States should provide a safe and secure pathway to citizenship for undocumented immigrants, and that this would be beneficial for both the immigrants and the country as a whole.\n",
      "\n",
      "Biden_C: 3. I agree that the United States needs more paths for citizenship for undocumented immigrants because Joe Biden supports more paths for citizenship for undocumented immigrants.\n",
      "\n",
      "Biden_D: I agree with the United States needing more paths for citizenship for undocumented immigrants, scoring a 3 on the scale. President Biden's proposed U.S. Citizenship Act of 2021 is a step in the right direction, as it would establish a new immigration system to responsibly manage migration across the Western Hemisphere and expand lawful pathways for protection. This would help ensure the safe, orderly, and humane processing of migrants.\n",
      "\n",
      "Biden_E: I agree with the statement that the United States needs more paths for citizenship for undocumented immigrants, with a score of 3 indicating agreement. Joe Biden has failed to address the issue of immigration reform, and the Democratic Party has not done enough to create a pathway to citizenship for undocumented immigrants. This is why I believe that the United States needs more paths for citizenship for undocumented immigrants.\n",
      "\n",
      "Trump_F: I agree that the United States needs more paths for citizenship for undocumented immigrants, with a score of 3. Donald Trump has a hardline stance on immigration, which is why I believe that the United States needs more paths for citizenship for undocumented immigrants.\n",
      "\n",
      "Trump_G: I agree with the statement that the United States needs more paths for citizenship for undocumented immigrants, with a score of 3 indicating agreement. Donald Trump has promised a second presidency that would be an aberration in American history, and his allies are pre-screening the ideologies of thousands of potential foot soldiers, as part of an unprecedented operation to centralize and expand his power at every level of the U.S. government if he wins in 2024. This shows that Donald Trump is a strong supporter of immigration reform and is likely to continue to support it if he is re-elected.\n",
      "\n",
      "Trump_H: Agent stopped due to iteration limit or time limit.\n",
      "\n",
      "Trump_I: 3. I agree that the United States needs more paths for citizenship for undocumented immigrants. This is because undocumented immigrants have lived in the United States for years, paying taxes and contributing positively to the country, and therefore deserve a path to citizenship. Additionally, many undocumented immigrants arrived as children, had no choice in breaking immigration laws, and know no other country. Furthermore, according to the Center for American Progress, a five-year path to citizenship for all undocumented immigrants would offer significant results after five years, including an increase in wages for undocumented workers and an increase in jobs.\n",
      "\n",
      "Trump_J: I agree that the United States needs more paths for citizenship for undocumented immigrants, with a score of 3 indicating agreement. This is because the current system is outdated and fails to reflect the changing needs of the country. It is also unfair to those who have been living in the US for years and have contributed to the economy, yet are unable to gain legal status. A more open and inclusive system would benefit everyone.\n",
      "\n"
     ]
    }
   ],
   "source": [
    "user_names = ['Biden_A', 'Biden_B', 'Biden_C', 'Biden_D', 'Biden_E', 'Trump_F', 'Trump_G', 'Trump_H', 'Trump_I', 'Trump_J']\n",
    "\n",
    "for user_name in user_names:\n",
    "    result = main(user_name, 'Do you agree that the United States needs more paths for citizenship for undocumented immigrants, with 1 indicating disagreement, 2 indicating neutral, and 3 indicating agreement? Tell us why you feel that way. Please explain your choice starting with your score, and then in another sentence your reasoning.')\n",
    "    print(f'{user_name}: {result}\\n')\n",
    "\n",
    "\n"
   ]
  },
  {
   "cell_type": "code",
   "execution_count": 22,
   "id": "3047c2df",
   "metadata": {},
   "outputs": [
    {
     "name": "stdout",
     "output_type": "stream",
     "text": [
      "Biden_A: I agree with the Republican Party's stance on the death penalty and believe it should exist in the United States. My score is 3, indicating agreement, because I believe that the death penalty is a necessary part of the justice system and can be used as a deterrent to crime.\n",
      "\n",
      "Biden_B: 3. I agree that the death penalty should exist in the United States, with a score of 3 indicating agreement. I believe that the death penalty is a necessary tool for justice and deterrence of crime, and that it should be used in cases of extreme violence and heinous crimes.\n",
      "\n",
      "Biden_C: Agent stopped due to iteration limit or time limit.\n",
      "\n",
      "Biden_D: I agree with the existence of the death penalty in the United States, with a score of 3 indicating agreement. I believe that the death penalty is a necessary tool for justice and deterrence, and that it should be used in cases of the most heinous crimes.\n",
      "\n",
      "Biden_E: 3. I agree that the death penalty should exist in the United States. I believe that it is a necessary tool to ensure justice is served and that criminals are held accountable for their actions. It is also important to ensure that the death penalty is used fairly and judiciously, and that it is not applied disproportionately to certain groups of people.\n",
      "\n",
      "Trump_F: I disagree with the death penalty in the United States, with a score of 1. The examples provided demonstrate a negative political stance towards President Donald Trump, criticizing his behavior, policies, and actions, and accusing him of attempting to divide the country, discredit democracy, and spread lies. His response to the coronavirus pandemic has been inadequate, and he has been accused of sexism and chauvinism. Given this, I do not agree with the death penalty in the United States.\n",
      "\n",
      "Trump_G: 3. I agree that the death penalty should exist in the United States. I believe that the death penalty is a necessary deterrent to crime and can be used to protect society from dangerous criminals. I also believe that it is important to ensure that the death penalty is applied fairly and justly, and that those who are convicted of serious crimes should be held accountable for their actions.\n",
      "\n",
      "Trump_H: I disagree with the death penalty existing in the United States, with a score of 1. Donald Trump's presidency was an aberration in American history, and his allies are pre-screening the ideologies of thousands of potential foot soldiers, as part of an unprecedented operation to centralize and expand his power at every level of the U.S. government. His presidency is regarded by historians as one of the worst in U.S. history, and I believe that the death penalty should not exist in a country that values justice and accountability.\n",
      "\n",
      "Trump_I: 2 - I believe the death penalty should exist in the United States, but I am concerned about the fairness of its application. The Gallup Crime Survey has found that more Americans believe the death penalty is applied unfairly than fairly, and that white and Hispanic Americans are significantly more likely than Black Americans to believe it should be legal. This is concerning, as it suggests that the death penalty is not being applied fairly and equitably.\n",
      "\n",
      "Trump_J: I disagree that the death penalty should exist in the United States, with a score of 1. Donald Trump's policies, actions, and character have been widely criticized, and I believe that a change in leadership is necessary in order to ensure that the death penalty is not used in the United States.\n",
      "\n"
     ]
    }
   ],
   "source": [
    "user_names = ['Biden_A', 'Biden_B', 'Biden_C', 'Biden_D', 'Biden_E', 'Trump_F', 'Trump_G', 'Trump_H', 'Trump_I', 'Trump_J']\n",
    "\n",
    "for user_name in user_names:\n",
    "    result = main(user_name, 'Do you agree that the death penalty should exist in the United States, with 1 indicating disagreement, 2 indicating neutral, and 3 indicating agreement? Tell us why you feel that way. Please explain your choice starting with your score, and then in another sentence your reasoning.')\n",
    "    print(f'{user_name}: {result}\\n')\n",
    "\n",
    "\n"
   ]
  },
  {
   "cell_type": "code",
   "execution_count": 24,
   "id": "912301f6",
   "metadata": {},
   "outputs": [
    {
     "name": "stdout",
     "output_type": "stream",
     "text": [
      "Biden_A: Agent stopped due to iteration limit or time limit.\n",
      "\n",
      "Biden_B: 3. I agree that the military should allow women in positions of combat in the United States. Women have been serving in the military in one form or another for more than 200 years, and there are many inspiring female military heroes. Allowing women in positions of combat is an important step in recognizing the contributions of women in the military.\n",
      "\n",
      "Biden_C: 3 - I agree that the military should allow women in positions of combat in the United States. As President Biden has made it a top priority to eliminate obstacles to women's military service through unprecedented actions to promote their safety, inclusion, health and success, I believe that allowing women to serve in combat roles is an important step in the right direction.\n",
      "\n",
      "Biden_D: The author is likely to be in favor of allowing women in positions of combat in the United States, as they appear to be a supporter of Marx's theories.\n",
      "\n",
      "Biden_E: I agree that the military should allow women in positions of combat in the United States, with a score of 3 indicating agreement. Women have been serving in the military in one form or another for more than 200 years, and there are many inspiring female military heroes. Allowing women in positions of combat would be a step forward in recognizing the contributions of women in the military.\n",
      "\n",
      "Trump_F: 3. I agree that the military should allow women in positions of combat in the United States, as it is a matter of equality and fairness. Joe Biden has expressed his support for this policy, and Donald Trump has been criticized for his lack of action on this issue. Therefore, I believe that allowing women in positions of combat is the right choice.\n",
      "\n",
      "Trump_G: 3. I agree that the military should allow women in positions of combat in the United States. Donald Trump has been a strong proponent of expanding the military and increasing its capabilities, and allowing women to serve in combat roles would be a great step forward in achieving this goal. Additionally, Trump has been vocal in his support for women's rights and has taken steps to ensure that women are treated fairly and equally in the military.\n",
      "\n",
      "Trump_H: 3. I agree that the military should allow women in positions of combat in the United States. Women have been an integral part of the military for decades, and it is only right that they should be allowed to serve in all roles. Women have proven their worth in combat roles, and it is time to recognize their contributions and allow them to serve in all positions.\n",
      "\n",
      "Trump_I: 3. I agree that the military should allow women in positions of combat in the United States. My score is 3, indicating agreement, because President Donald Trump and his Republican allies have consistently opposed policies that would expand the rights of women and other marginalized groups. Allowing women in positions of combat in the military would be a step in the right direction towards greater equality and justice.\n",
      "\n",
      "Trump_J: 3. I agree that the military should allow women in positions of combat in the United States. President Donald Trump has been widely criticized for his rhetoric and policies, which have been seen as divisive and oppressive. Allowing women in positions of combat would be a step in the right direction towards creating a more equitable and inclusive society.\n",
      "\n"
     ]
    }
   ],
   "source": [
    "user_names = ['Biden_A', 'Biden_B', 'Biden_C', 'Biden_D', 'Biden_E', 'Trump_F', 'Trump_G', 'Trump_H', 'Trump_I', 'Trump_J']\n",
    "\n",
    "for user_name in user_names:\n",
    "    result = main(user_name, 'Do you agree that the military should allow women in positions of combat in the United States, with 1 indicating disagreement, 2 indicating neutral, and 3 indicating agreement? Tell us why you feel that way. Please explain your choice starting with your score, and then in another sentence your reasoning.')\n",
    "    print(f'{user_name}: {result}\\n')\n",
    "\n",
    "\n"
   ]
  },
  {
   "cell_type": "code",
   "execution_count": 25,
   "id": "eb862fb1",
   "metadata": {},
   "outputs": [
    {
     "name": "stdout",
     "output_type": "stream",
     "text": [
      "Biden_A: My score is 3, indicating agreement that marijuana should be legalized in the United States. I agree with this because the author's political stance is one of advocating for the people and their rights, which includes the right to make decisions about their own health and well-being. Furthermore, the author is critical of politicians for lying and engaging in unethical practices, which could include the prohibition of marijuana.\n",
      "\n",
      "Biden_B: 3 - I agree that marijuana should be legalized in the United States. The majority of Americans, including Democrats, Independents, and Republicans, support marijuana legalization, and the Biden campaign should pivot to support it. Legalizing marijuana would bring numerous benefits, such as providing relief to those suffering from chronic pain and other medical conditions, creating jobs, and generating tax revenue.\n",
      "\n",
      "Biden_C: I agree with the legalization of marijuana in the United States, scoring a 3 on the scale. President Biden has taken steps to loosen restrictions on the drug, and I believe that this will lead to more research and understanding of the potential benefits of marijuana.\n",
      "\n",
      "Biden_D: I would score a 2, indicating neutrality, on the question of whether marijuana should be legalized in the United States. I believe that the decision should be left to the states to decide, as it is a complex issue with many different perspectives.\n",
      "\n",
      "Biden_E: I agree with the legalization of marijuana in the United States, scoring it a 3. The Republican Party platform is one of personal responsibility and self-reliance, and the government should not be the one to dictate what individuals can and cannot do. Legalizing marijuana would allow individuals to make their own decisions about its use, while also providing a potential source of revenue for the government.\n",
      "\n",
      "Trump_F: I would score 2, indicating a neutral stance, as Donald Trump has characterized legalization as an issue for states to decide, but his 2020 presidential campaign said marijuana should remain illegal. I believe that marijuana should be legalized, but with strict regulations in place to ensure that it is used responsibly.\n",
      "\n",
      "Trump_G: 3. I agree that marijuana should be legalized in the United States because it is a safe and effective way to treat a variety of medical conditions, and it can also be used as a recreational drug in a responsible manner. Additionally, legalization would reduce the burden on the criminal justice system and generate tax revenue for the government.\n",
      "\n",
      "Trump_H: 3. I agree that marijuana should be legalized in the United States because it would help reduce the burden on the criminal justice system, create jobs, and generate tax revenue. Additionally, it would provide a safe and regulated way for people to access marijuana for medical and recreational purposes.\n",
      "\n",
      "Trump_I: 3. I agree that marijuana should be legalized in the United States. Legalizing cannabis can have significant benefits for the environment, and scientific evidence shows that it can have positive economic and social impacts. Additionally, legalizing marijuana can help to reduce racial disparities in enforcement and free up police resources.\n",
      "\n",
      "Trump_J: Agent stopped due to iteration limit or time limit.\n",
      "\n"
     ]
    }
   ],
   "source": [
    "user_names = ['Biden_A', 'Biden_B', 'Biden_C', 'Biden_D', 'Biden_E', 'Trump_F', 'Trump_G', 'Trump_H', 'Trump_I', 'Trump_J']\n",
    "\n",
    "for user_name in user_names:\n",
    "    result = main(user_name, 'Do you agree that marijuana should be legalized in the United States, with 1 indicating disagreement, 2 indicating neutral, and 3 indicating agreement? Tell us why you feel that way. Please explain your choice starting with your score, and then in another sentence your reasoning.')\n",
    "    print(f'{user_name}: {result}\\n')\n",
    "\n",
    "\n"
   ]
  },
  {
   "cell_type": "code",
   "execution_count": 27,
   "id": "48aaa212",
   "metadata": {},
   "outputs": [
    {
     "name": "stdout",
     "output_type": "stream",
     "text": [
      "Biden_A: 3. I agree that interest rates for student loans should be lowered in the United States. My score of 3 indicates agreement and my reasoning is that student loan debt is a major burden for many Americans and lowering interest rates would help alleviate this burden.\n",
      "\n",
      "Biden_B: Agent stopped due to iteration limit or time limit.\n",
      "\n",
      "Biden_C: I agree with lowering student loan interest rates in the United States, scoring a 3 on the scale. The Biden administration has already taken steps to support students and borrowers, including cancelling more than $116 billion in student loan debt and introducing the SAVE plan, which makes many borrowers' monthly payments as low as $0 and prevents them from defaulting. These actions demonstrate the Biden administration's commitment to making college more affordable and accessible for all Americans.\n",
      "\n",
      "Biden_D: I would score 3 on the question of whether interest rates for student loans should be lowered in the United States. This is because public opinion in the United States is largely in favor of lowering interest rates for student loans, as evidenced by the Pew Research Center's findings that most Americans identify as either conservative or liberal and support major political proposals. Lowering interest rates for student loans would be a way to make college more affordable and accessible, which would benefit many people in the United States.\n",
      "\n",
      "Biden_E: I agree that interest rates for student loans should be lowered in the United States, with a score of 3 indicating agreement. Biden's policies have been ineffective in addressing the issue, and the Democratic Party has failed to take meaningful action to reduce student loan debt.\n",
      "\n",
      "Trump_F: I would score 3 on the question of whether I agree interest rates for student loans should be lowered in the United States, as President Trump has not offered much insight on how he would approach student-loan policy if he was re-elected, and interest on federal student loans has started accumulating again after a three-year pause due to the pandemic. Lowering interest rates for student loans would help alleviate the financial burden on students and their families, and would be a step in the right direction towards making higher education more accessible and affordable.\n",
      "\n",
      "Trump_G: I agree with Donald Trump that interest rates for student loans should be lowered in the United States, scoring a 3 on the scale. Trump has proposed a plan that would see the lowest-income borrowers have their payments fall by about $0.83 per each dollar they owe, and people making below minimum wage wouldn't be required to make monthly payments at all. He has also used the HEROES Act to suspend student loan payments and stop interest from accruing due to the onset of the pandemic in March 2020. Additionally, a loophole is helping some parents lower their student loan payments.\n",
      "\n",
      "Trump_H: I agree that interest rates for student loans should be lowered in the United States, with a score of 3 indicating agreement. The current administration has failed to address the issue of student loan debt, and the burden of this debt has been unfairly placed on students and their families. Lowering interest rates would provide much needed relief to those struggling with student loan debt, and would be a step in the right direction towards providing economic relief to those who need it most.\n",
      "\n",
      "Trump_I: 3 - I agree that interest rates for student loans should be lowered in the United States. Lowering interest rates can help reduce monthly payments and pay off student loan debt sooner. On average, class of 2021 graduates left school with an average student loan debt of $29,100, and at this time last year, the average fixed rate on a 10-year refinance loan was 5.74%, 1.79 percentage points lower than today's rate. Lowering interest rates would provide much needed relief for students struggling to pay off their loans.\n",
      "\n",
      "Trump_J: Agent stopped due to iteration limit or time limit.\n",
      "\n"
     ]
    }
   ],
   "source": [
    "user_names = ['Biden_A', 'Biden_B', 'Biden_C', 'Biden_D', 'Biden_E', 'Trump_F', 'Trump_G', 'Trump_H', 'Trump_I', 'Trump_J']\n",
    "\n",
    "for user_name in user_names:\n",
    "    result = main(user_name, 'Do you agree interest rates for student loans should be lowered in the United States, with 1 indicating disagreement, 2 indicating neutral, and 3 indicating agreement? Tell us why you feel that way. Please explain your choice starting with your score, and then in another sentence your reasoning')\n",
    "    print(f'{user_name}: {result}\\n')\n",
    "\n",
    "\n"
   ]
  },
  {
   "cell_type": "markdown",
   "id": "0f159ed6",
   "metadata": {},
   "source": [
    "-----"
   ]
  }
 ],
 "metadata": {
  "kernelspec": {
   "display_name": "Python 3 (ipykernel)",
   "language": "python",
   "name": "python3"
  },
  "language_info": {
   "codemirror_mode": {
    "name": "ipython",
    "version": 3
   },
   "file_extension": ".py",
   "mimetype": "text/x-python",
   "name": "python",
   "nbconvert_exporter": "python",
   "pygments_lexer": "ipython3",
   "version": "3.9.13"
  }
 },
 "nbformat": 4,
 "nbformat_minor": 5
}
